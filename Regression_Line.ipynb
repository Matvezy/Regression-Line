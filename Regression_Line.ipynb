{
  "nbformat": 4,
  "nbformat_minor": 0,
  "metadata": {
    "colab": {
      "name": "Untitled0.ipynb",
      "provenance": [],
      "collapsed_sections": [],
      "include_colab_link": true
    },
    "kernelspec": {
      "name": "python3",
      "display_name": "Python 3"
    }
  },
  "cells": [
    {
      "cell_type": "markdown",
      "metadata": {
        "id": "view-in-github",
        "colab_type": "text"
      },
      "source": [
        "<a href=\"https://colab.research.google.com/github/Matvezy/Regression-Line/blob/master/Regression_Line.ipynb\" target=\"_parent\"><img src=\"https://colab.research.google.com/assets/colab-badge.svg\" alt=\"Open In Colab\"/></a>"
      ]
    },
    {
      "cell_type": "markdown",
      "metadata": {
        "id": "Krg_ElLdXyok",
        "colab_type": "text"
      },
      "source": [
        "# **Matvei Popov for Code in. Linear Regression**\n",
        "\n",
        "---\n",
        "# Working with randomly generated dataset\n",
        "\n",
        "\n",
        "Imports\n"
      ]
    },
    {
      "cell_type": "code",
      "metadata": {
        "id": "ug1o87jTX4Wx",
        "colab_type": "code",
        "colab": {
          "base_uri": "https://localhost:8080/",
          "height": 64
        },
        "outputId": "d4c3271e-826a-4827-805b-127c9fe535c2"
      },
      "source": [
        "import numpy as np \n",
        "import tensorflow as tf \n",
        "import matplotlib.pyplot as plt \n",
        "import pandas as pd"
      ],
      "execution_count": 2,
      "outputs": [
        {
          "output_type": "display_data",
          "data": {
            "text/html": [
              "<p style=\"color: red;\">\n",
              "The default version of TensorFlow in Colab will soon switch to TensorFlow 2.x.<br>\n",
              "We recommend you <a href=\"https://www.tensorflow.org/guide/migrate\" target=\"_blank\">upgrade</a> now \n",
              "or ensure your notebook will continue to use TensorFlow 1.x via the <code>%tensorflow_version 1.x</code> magic:\n",
              "<a href=\"https://colab.research.google.com/notebooks/tensorflow_version.ipynb\" target=\"_blank\">more info</a>.</p>\n"
            ],
            "text/plain": [
              "<IPython.core.display.HTML object>"
            ]
          },
          "metadata": {
            "tags": []
          }
        }
      ]
    },
    {
      "cell_type": "markdown",
      "metadata": {
        "id": "z38mqbBXYGnJ",
        "colab_type": "text"
      },
      "source": [
        "Generating two random arrays for x cordinate and y cordinate"
      ]
    },
    {
      "cell_type": "code",
      "metadata": {
        "id": "DgweCztKYKbb",
        "colab_type": "code",
        "colab": {}
      },
      "source": [
        "\n",
        "np.random.seed(101) \n",
        "tf.set_random_seed(101) \n",
        "#arrays 0-70\n",
        "x = np.linspace(0, 70, 50) \n",
        "y = np.linspace(0, 70, 50) \n",
        "#adding noize\n",
        "x += np.random.uniform(-4, 8, 50) \n",
        "y += np.random.uniform(-4, 8, 50) \n",
        "  \n",
        "n = len(x) "
      ],
      "execution_count": 0,
      "outputs": []
    },
    {
      "cell_type": "markdown",
      "metadata": {
        "id": "y7Y9FRRnYbMn",
        "colab_type": "text"
      },
      "source": [
        "Defining variables, but not initializing them. Defining y predicted and cost, and model."
      ]
    },
    {
      "cell_type": "code",
      "metadata": {
        "id": "R-5WGOqjYbdW",
        "colab_type": "code",
        "colab": {
          "base_uri": "https://localhost:8080/",
          "height": 90
        },
        "outputId": "4828b612-2308-4869-e9be-75c6804e9a44"
      },
      "source": [
        "X = tf.placeholder(\"float\") \n",
        "Y = tf.placeholder(\"float\") \n",
        "\n",
        "W = tf.Variable(np.random.randn(), name = \"W\") \n",
        "b = tf.Variable(np.random.randn(), name = \"b\") \n",
        "learning_rate = 0.01\n",
        "training_epochs = 800\n",
        "# y predicted with y=ax+b\n",
        "y_pred = tf.add(tf.multiply(X, W), b) \n",
        "  \n",
        "# Calculating error\n",
        "cost = tf.reduce_sum(tf.pow(y_pred-Y, 2)) / (2 * n) \n",
        "  \n",
        "# Gradient Descent Optimizer \n",
        "optimizer = tf.train.GradientDescentOptimizer(learning_rate).minimize(cost) \n",
        "  \n",
        "# Global Variables Initializer \n",
        "init = tf.global_variables_initializer() "
      ],
      "execution_count": 4,
      "outputs": [
        {
          "output_type": "stream",
          "text": [
            "WARNING:tensorflow:From /usr/local/lib/python3.6/dist-packages/tensorflow_core/python/ops/math_grad.py:1375: where (from tensorflow.python.ops.array_ops) is deprecated and will be removed in a future version.\n",
            "Instructions for updating:\n",
            "Use tf.where in 2.0, which has the same broadcast rule as np.where\n"
          ],
          "name": "stdout"
        }
      ]
    },
    {
      "cell_type": "markdown",
      "metadata": {
        "id": "C40FQpvRZPj7",
        "colab_type": "text"
      },
      "source": [
        "Starting Session, initializing, learn"
      ]
    },
    {
      "cell_type": "code",
      "metadata": {
        "id": "jphbZDnjZP5d",
        "colab_type": "code",
        "outputId": "e749a253-68e1-4c49-fd07-0a293538338a",
        "colab": {
          "base_uri": "https://localhost:8080/",
          "height": 159
        }
      },
      "source": [
        "# Starting the Tensorflow Session \n",
        "with tf.Session() as sess: \n",
        "      \n",
        "    # Initialize variables \n",
        "    sess.run(init) \n",
        "      \n",
        "    # Iterating through all the epochs \n",
        "    for epoch in range(training_epochs): \n",
        "          \n",
        "        # Feeding each data point into the optimizer using Feed Dictionary \n",
        "        for (_x, _y) in zip(x, y): \n",
        "            sess.run(optimizer, feed_dict = {X : _x, Y : _y}) \n",
        "          \n",
        "        # Displaying the result after every 100 epochs \n",
        "        if (epoch + 1) % 100 == 0: \n",
        "            # Calculating the cost thru each iteration\n",
        "            c = sess.run(cost, feed_dict = {X : x, Y : y}) \n",
        "            print(\"Epoch\", (epoch + 1), \": cost =\", c, \"W =\", sess.run(W), \"b =\", sess.run(b)) \n",
        "      \n",
        "    # Storing necessary values to be used outside the Session \n",
        "    training_cost = sess.run(cost, feed_dict ={X: x, Y: y}) \n",
        "    weight = sess.run(W) \n",
        "    bias = sess.run(b) "
      ],
      "execution_count": 5,
      "outputs": [
        {
          "output_type": "stream",
          "text": [
            "Epoch 100 : cost = 13.689359 W = 1.0155375 b = 1.2126147\n",
            "Epoch 200 : cost = 13.55485 W = 1.01762 b = 1.0631037\n",
            "Epoch 300 : cost = 13.447267 W = 1.0193709 b = 0.9373895\n",
            "Epoch 400 : cost = 13.360709 W = 1.0208431 b = 0.8316863\n",
            "Epoch 500 : cost = 13.290682 W = 1.022081 b = 0.74280757\n",
            "Epoch 600 : cost = 13.233751 W = 1.0231218 b = 0.6680753\n",
            "Epoch 700 : cost = 13.18726 W = 1.023997 b = 0.6052384\n",
            "Epoch 800 : cost = 13.149146 W = 1.0247328 b = 0.5524057\n"
          ],
          "name": "stdout"
        }
      ]
    },
    {
      "cell_type": "markdown",
      "metadata": {
        "id": "Y9mXg9egZjEy",
        "colab_type": "text"
      },
      "source": [
        "Calculating predicitions and graphing"
      ]
    },
    {
      "cell_type": "code",
      "metadata": {
        "id": "p02CxKWiZl2y",
        "colab_type": "code",
        "outputId": "3fe8e5e9-6e02-4207-e30c-9fb3827fa363",
        "colab": {
          "base_uri": "https://localhost:8080/",
          "height": 316
        }
      },
      "source": [
        "# Calculating the predictions \n",
        "predictions = weight * x + bias \n",
        "print(\"Training cost =\", training_cost, \"Weight =\", weight, \"bias =\", bias, '\\n') \n",
        "# Plotting the Results \n",
        "plt.plot(x, y, 'ro', label ='Original data') \n",
        "plt.plot(x, predictions, label ='Fitted line') \n",
        "plt.title('Linear Regression Result') \n",
        "plt.legend() \n",
        "plt.show() "
      ],
      "execution_count": 6,
      "outputs": [
        {
          "output_type": "stream",
          "text": [
            "Training cost = 13.149146 Weight = 1.0247328 bias = 0.5524057 \n",
            "\n"
          ],
          "name": "stdout"
        },
        {
          "output_type": "display_data",
          "data": {
            "image/png": "[encoded data removed]",
            "text/plain": [
              "<Figure size 432x288 with 1 Axes>"
            ]
          },
          "metadata": {
            "tags": []
          }
        }
      ]
    },
    {
      "cell_type": "markdown",
      "metadata": {
        "id": "g_R_UpL9d5LC",
        "colab_type": "text"
      },
      "source": [
        ""
      ]
    },
    {
      "cell_type": "markdown",
      "metadata": {
        "id": "Ka1Xy-IAaDLZ",
        "colab_type": "text"
      },
      "source": [
        "# **Working with csv dataset of salary-years of experience.**\n",
        "Reading values from dataset "
      ]
    },
    {
      "cell_type": "code",
      "metadata": {
        "id": "AWo8-R1AaUNp",
        "colab_type": "code",
        "colab": {}
      },
      "source": [
        "url='https://raw.githubusercontent.com/Matvezy/Regression-Line/master/Salary_Data.csv'\n",
        "dataset = pd.read_csv(url)\n",
        "x=dataset['YearsExperience'].values\n",
        "y=dataset['Salary'].values"
      ],
      "execution_count": 0,
      "outputs": []
    },
    {
      "cell_type": "markdown",
      "metadata": {
        "id": "ocCD3uEKben8",
        "colab_type": "text"
      },
      "source": [
        "Training on other dataset"
      ]
    },
    {
      "cell_type": "code",
      "metadata": {
        "id": "Y1krISrYbe06",
        "colab_type": "code",
        "outputId": "74bd82f5-af80-4d9d-a055-cd7c455f68cc",
        "colab": {
          "base_uri": "https://localhost:8080/",
          "height": 159
        }
      },
      "source": [
        "# Starting the Tensorflow Session \n",
        "with tf.Session() as sess: \n",
        "      \n",
        "    # Initialize variables \n",
        "    sess.run(init) \n",
        "      \n",
        "    # Iterating through all the epochs \n",
        "    for epoch in range(training_epochs): \n",
        "          \n",
        "        # Feeding each data point into the optimizer using Feed Dictionary \n",
        "        for (_x, _y) in zip(x, y): \n",
        "            sess.run(optimizer, feed_dict = {X : _x, Y : _y}) \n",
        "          \n",
        "        # Displaying the result after every 100 epochs \n",
        "        if (epoch + 1) % 100 == 0: \n",
        "            # Calculating the cost thru each iteration\n",
        "            c = sess.run(cost, feed_dict = {X : x, Y : y}) \n",
        "            print(\"Epoch\", (epoch + 1), \": cost =\", c, \"W =\", sess.run(W), \"b =\", sess.run(b)) \n",
        "      \n",
        "    # Storing necessary values to be used outside the Session \n",
        "    training_cost = sess.run(cost, feed_dict ={X: x, Y: y}) \n",
        "    weight = sess.run(W) \n",
        "    bias = sess.run(b) "
      ],
      "execution_count": 8,
      "outputs": [
        {
          "output_type": "stream",
          "text": [
            "Epoch 100 : cost = 37967612.0 W = 12477.362 b = 4814.209\n",
            "Epoch 200 : cost = 31530500.0 W = 12114.291 b = 7326.8296\n",
            "Epoch 300 : cost = 26541104.0 W = 11794.568 b = 9539.398\n",
            "Epoch 400 : cost = 22673984.0 W = 11513.033 b = 11487.761\n",
            "Epoch 500 : cost = 19677008.0 W = 11265.115 b = 13203.423\n",
            "Epoch 600 : cost = 17354430.0 W = 11046.802 b = 14714.246\n",
            "Epoch 700 : cost = 15554735.0 W = 10854.5625 b = 16044.618\n",
            "Epoch 800 : cost = 14160293.0 W = 10685.271 b = 17216.135\n"
          ],
          "name": "stdout"
        }
      ]
    },
    {
      "cell_type": "markdown",
      "metadata": {
        "id": "eJ_sPplZbf3Y",
        "colab_type": "text"
      },
      "source": [
        "Displaying results"
      ]
    },
    {
      "cell_type": "code",
      "metadata": {
        "id": "fQRCAdj4bgAI",
        "colab_type": "code",
        "outputId": "f2c4eaf0-82fe-4020-f1ae-23782514227b",
        "colab": {
          "base_uri": "https://localhost:8080/",
          "height": 316
        }
      },
      "source": [
        "# Calculating the predictions \n",
        "predictions = weight * x + bias \n",
        "print(\"Training cost =\", training_cost, \"Weight =\", weight, \"bias =\", bias, '\\n') \n",
        "# Plotting the Results \n",
        "plt.plot(x, y, 'ro', label ='Original data') \n",
        "plt.plot(x, predictions, label ='Fitted line') \n",
        "plt.title('Linear Regression Result') \n",
        "plt.legend() \n",
        "plt.show() "
      ],
      "execution_count": 9,
      "outputs": [
        {
          "output_type": "stream",
          "text": [
            "Training cost = 14160293.0 Weight = 10685.271 bias = 17216.135 \n",
            "\n"
          ],
          "name": "stdout"
        },
        {
          "output_type": "display_data",
          "data": {
            "image/png": "[encoded data removed]",
            "text/plain": [
              "<Figure size 432x288 with 1 Axes>"
            ]
          },
          "metadata": {
            "tags": []
          }
        }
      ]
    },
    {
      "cell_type": "code",
      "metadata": {
        "id": "LMaK1g2wE5mG",
        "colab_type": "code",
        "colab": {
          "base_uri": "https://localhost:8080/",
          "height": 35
        },
        "outputId": "de828b71-b2f3-40cd-cc43-51a5f563bf9c"
      },
      "source": [
        "print(\"According to Regression line, the expected salary for a person with 6.5 years of experinece is: \", weight * 6.5 + bias)"
      ],
      "execution_count": 10,
      "outputs": [
        {
          "output_type": "stream",
          "text": [
            "According to Regression line, the expected salary for a person with 6.5 years of experinece is:  86670.3994140625\n"
          ],
          "name": "stdout"
        }
      ]
    }
  ]
}