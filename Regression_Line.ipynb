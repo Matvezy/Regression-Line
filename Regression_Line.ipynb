{
  "nbformat": 4,
  "nbformat_minor": 0,
  "metadata": {
    "colab": {
      "name": "Untitled0.ipynb",
      "provenance": [],
      "collapsed_sections": [],
      "include_colab_link": true
    },
    "kernelspec": {
      "name": "python3",
      "display_name": "Python 3"
    }
  },
  "cells": [
    {
      "cell_type": "markdown",
      "metadata": {
        "id": "view-in-github",
        "colab_type": "text"
      },
      "source": [
        "<a href=\"https://colab.research.google.com/github/Matvezy/Regression-Line/blob/master/Regression_Line.ipynb\" target=\"_parent\"><img src=\"https://colab.research.google.com/assets/colab-badge.svg\" alt=\"Open In Colab\"/></a>"
      ]
    },
    {
      "cell_type": "markdown",
      "metadata": {
        "id": "Krg_ElLdXyok",
        "colab_type": "text"
      },
      "source": [
        "# **Matvei Popov for Code in. Linear Regression**\n",
        "\n",
        "---\n",
        "# Working with randomly generated dataset\n",
        "\n",
        "\n",
        "Imports\n"
      ]
    },
    {
      "cell_type": "code",
      "metadata": {
        "id": "ug1o87jTX4Wx",
        "colab_type": "code",
        "colab": {}
      },
      "source": [
        "import numpy as np \n",
        "import tensorflow as tf \n",
        "import matplotlib.pyplot as plt \n",
        "import pandas as pd"
      ],
      "execution_count": 0,
      "outputs": []
    },
    {
      "cell_type": "markdown",
      "metadata": {
        "id": "z38mqbBXYGnJ",
        "colab_type": "text"
      },
      "source": [
        "Generating two random arrays for x cordinate and y cordinate"
      ]
    },
    {
      "cell_type": "code",
      "metadata": {
        "id": "DgweCztKYKbb",
        "colab_type": "code",
        "colab": {}
      },
      "source": [
        "\n",
        "np.random.seed(101) \n",
        "tf.set_random_seed(101) \n",
        "#arrays 0-70\n",
        "x = np.linspace(0, 70, 50) \n",
        "y = np.linspace(0, 70, 50) \n",
        "#adding noize\n",
        "x += np.random.uniform(-4, 8, 50) \n",
        "y += np.random.uniform(-4, 8, 50) \n",
        "  \n",
        "n = len(x) "
      ],
      "execution_count": 0,
      "outputs": []
    },
    {
      "cell_type": "markdown",
      "metadata": {
        "id": "y7Y9FRRnYbMn",
        "colab_type": "text"
      },
      "source": [
        "Defining variables, but not initializing them. Defining y predicted and cost, and model."
      ]
    },
    {
      "cell_type": "code",
      "metadata": {
        "id": "R-5WGOqjYbdW",
        "colab_type": "code",
        "colab": {}
      },
      "source": [
        "X = tf.placeholder(\"float\") \n",
        "Y = tf.placeholder(\"float\") \n",
        "\n",
        "W = tf.Variable(np.random.randn(), name = \"W\") \n",
        "b = tf.Variable(np.random.randn(), name = \"b\") \n",
        "learning_rate = 0.01\n",
        "training_epochs = 800\n",
        "# y predicted with y=ax+b\n",
        "y_pred = tf.add(tf.multiply(X, W), b) \n",
        "  \n",
        "# Calculating error\n",
        "cost = tf.reduce_sum(tf.pow(y_pred-Y, 2)) / (2 * n) \n",
        "  \n",
        "# Gradient Descent Optimizer \n",
        "optimizer = tf.train.GradientDescentOptimizer(learning_rate).minimize(cost) \n",
        "  \n",
        "# Global Variables Initializer \n",
        "init = tf.global_variables_initializer() "
      ],
      "execution_count": 0,
      "outputs": []
    },
    {
      "cell_type": "markdown",
      "metadata": {
        "id": "C40FQpvRZPj7",
        "colab_type": "text"
      },
      "source": [
        "Starting Session, initializing, learn"
      ]
    },
    {
      "cell_type": "code",
      "metadata": {
        "id": "jphbZDnjZP5d",
        "colab_type": "code",
        "outputId": "6d8a2731-0273-4d20-bb83-c83f99f01fc6",
        "colab": {
          "base_uri": "https://localhost:8080/",
          "height": 150
        }
      },
      "source": [
        "# Starting the Tensorflow Session \n",
        "with tf.Session() as sess: \n",
        "      \n",
        "    # Initialize variables \n",
        "    sess.run(init) \n",
        "      \n",
        "    # Iterating through all the epochs \n",
        "    for epoch in range(training_epochs): \n",
        "          \n",
        "        # Feeding each data point into the optimizer using Feed Dictionary \n",
        "        for (_x, _y) in zip(x, y): \n",
        "            sess.run(optimizer, feed_dict = {X : _x, Y : _y}) \n",
        "          \n",
        "        # Displaying the result after every 50 epochs \n",
        "        if (epoch + 1) % 100 == 0: \n",
        "            # Calculating the cost thru each iteration\n",
        "            c = sess.run(cost, feed_dict = {X : x, Y : y}) \n",
        "            print(\"Epoch\", (epoch + 1), \": cost =\", c, \"W =\", sess.run(W), \"b =\", sess.run(b)) \n",
        "      \n",
        "    # Storing necessary values to be used outside the Session \n",
        "    training_cost = sess.run(cost, feed_dict ={X: x, Y: y}) \n",
        "    weight = sess.run(W) \n",
        "    bias = sess.run(b) "
      ],
      "execution_count": 0,
      "outputs": [
        {
          "output_type": "stream",
          "text": [
            "Epoch 100 : cost = 13.689359 W = 1.0155375 b = 1.2126147\n",
            "Epoch 200 : cost = 13.55485 W = 1.01762 b = 1.0631037\n",
            "Epoch 300 : cost = 13.447267 W = 1.0193709 b = 0.9373895\n",
            "Epoch 400 : cost = 13.360709 W = 1.0208431 b = 0.8316863\n",
            "Epoch 500 : cost = 13.290682 W = 1.022081 b = 0.74280757\n",
            "Epoch 600 : cost = 13.233751 W = 1.0231218 b = 0.6680753\n",
            "Epoch 700 : cost = 13.18726 W = 1.023997 b = 0.6052384\n",
            "Epoch 800 : cost = 13.149146 W = 1.0247328 b = 0.5524057\n"
          ],
          "name": "stdout"
        }
      ]
    },
    {
      "cell_type": "markdown",
      "metadata": {
        "id": "Y9mXg9egZjEy",
        "colab_type": "text"
      },
      "source": [
        "Calculating predicitions and graphing"
      ]
    },
    {
      "cell_type": "code",
      "metadata": {
        "id": "p02CxKWiZl2y",
        "colab_type": "code",
        "outputId": "5115747f-e0f2-463b-f127-2d9ca054b9de",
        "colab": {
          "base_uri": "https://localhost:8080/",
          "height": 314
        }
      },
      "source": [
        "# Calculating the predictions \n",
        "predictions = weight * x + bias \n",
        "print(\"Training cost =\", training_cost, \"Weight =\", weight, \"bias =\", bias, '\\n') \n",
        "# Plotting the Results \n",
        "plt.plot(x, y, 'ro', label ='Original data') \n",
        "plt.plot(x, predictions, label ='Fitted line') \n",
        "plt.title('Linear Regression Result') \n",
        "plt.legend() \n",
        "plt.show() "
      ],
      "execution_count": 0,
      "outputs": [
        {
          "output_type": "stream",
          "text": [
            "Training cost = 13.149146 Weight = 1.0247328 bias = 0.5524057 \n",
            "\n"
          ],
          "name": "stdout"
        },
        {
          "output_type": "display_data",
          "data": {
            "image/png": "[encoded data removed]",
            "text/plain": [
              "<Figure size 432x288 with 1 Axes>"
            ]
          },
          "metadata": {
            "tags": []
          }
        }
      ]
    },
    {
      "cell_type": "markdown",
      "metadata": {
        "id": "g_R_UpL9d5LC",
        "colab_type": "text"
      },
      "source": [
        ""
      ]
    },
    {
      "cell_type": "markdown",
      "metadata": {
        "id": "Ka1Xy-IAaDLZ",
        "colab_type": "text"
      },
      "source": [
        "# **Working with csv dataset of salary-years of experience.**\n",
        "Reading values from dataset "
      ]
    },
    {
      "cell_type": "code",
      "metadata": {
        "id": "AWo8-R1AaUNp",
        "colab_type": "code",
        "colab": {}
      },
      "source": [
        "url='https://raw.githubusercontent.com/Matvezy/Regression-Line/master/Salary_Data.csv'\n",
        "dataset = pd.read_csv(url)\n",
        "x=dataset['YearsExperience'].values\n",
        "y=dataset['Salary'].values"
      ],
      "execution_count": 0,
      "outputs": []
    },
    {
      "cell_type": "markdown",
      "metadata": {
        "id": "ocCD3uEKben8",
        "colab_type": "text"
      },
      "source": [
        "Training on other dataset"
      ]
    },
    {
      "cell_type": "code",
      "metadata": {
        "id": "Y1krISrYbe06",
        "colab_type": "code",
        "outputId": "24250320-90ac-4502-bd10-6066616d15c1",
        "colab": {
          "base_uri": "https://localhost:8080/",
          "height": 183
        }
      },
      "source": [
        "# Starting the Tensorflow Session \n",
        "with tf.Session() as sess: \n",
        "      \n",
        "    # Initialize variables \n",
        "    sess.run(init) \n",
        "      \n",
        "    # Iterating through all the epochs \n",
        "    for epoch in range(training_epochs): \n",
        "          \n",
        "        # Feeding each data point into the optimizer using Feed Dictionary \n",
        "        for (_x, _y) in zip(x, y): \n",
        "            sess.run(optimizer, feed_dict = {X : _x, Y : _y}) \n",
        "          \n",
        "        # Displaying the result after every 50 epochs \n",
        "        if (epoch + 1) % 100 == 0: \n",
        "            # Calculating the cost thru each iteration\n",
        "            c = sess.run(cost, feed_dict = {X : x, Y : y}) \n",
        "            print(\"Epoch\", (epoch + 1), \": cost =\", c, \"W =\", sess.run(W), \"b =\", sess.run(b)) \n",
        "      \n",
        "    # Storing necessary values to be used outside the Session \n",
        "    training_cost = sess.run(cost, feed_dict ={X: x, Y: y}) \n",
        "    weight = sess.run(W) \n",
        "    bias = sess.run(b) "
      ],
      "execution_count": 0,
      "outputs": [
        {
          "output_type": "stream",
          "text": [
            "Epoch 50 : cost = 41856172.0 W = 12676.779 b = 3432.8462\n",
            "Epoch 100 : cost = 37967612.0 W = 12477.362 b = 4814.209\n",
            "Epoch 150 : cost = 34544370.0 W = 12290.061 b = 6110.445\n",
            "Epoch 200 : cost = 31530500.0 W = 12114.291 b = 7326.8296\n",
            "Epoch 250 : cost = 28877128.0 W = 11949.354 b = 8468.267\n",
            "Epoch 300 : cost = 26541104.0 W = 11794.568 b = 9539.398\n",
            "Epoch 350 : cost = 24484518.0 W = 11649.331 b = 10544.541\n",
            "Epoch 400 : cost = 22673984.0 W = 11513.033 b = 11487.761\n",
            "Epoch 450 : cost = 21080132.0 W = 11385.131 b = 12372.855\n",
            "Epoch 500 : cost = 19677008.0 W = 11265.115 b = 13203.423\n"
          ],
          "name": "stdout"
        }
      ]
    },
    {
      "cell_type": "markdown",
      "metadata": {
        "id": "eJ_sPplZbf3Y",
        "colab_type": "text"
      },
      "source": [
        "Displaying results"
      ]
    },
    {
      "cell_type": "code",
      "metadata": {
        "id": "fQRCAdj4bgAI",
        "colab_type": "code",
        "outputId": "266b4333-8179-4b26-bcc0-7772b8d03c5e",
        "colab": {
          "base_uri": "https://localhost:8080/",
          "height": 314
        }
      },
      "source": [
        "# Calculating the predictions \n",
        "predictions = weight * x + bias \n",
        "print(\"Training cost =\", training_cost, \"Weight =\", weight, \"bias =\", bias, '\\n') \n",
        "# Plotting the Results \n",
        "plt.plot(x, y, 'ro', label ='Original data') \n",
        "plt.plot(x, predictions, label ='Fitted line') \n",
        "plt.title('Linear Regression Result') \n",
        "plt.legend() \n",
        "plt.show() "
      ],
      "execution_count": 0,
      "outputs": [
        {
          "output_type": "stream",
          "text": [
            "Training cost = 19677008.0 Weight = 11265.115 bias = 13203.423 \n",
            "\n"
          ],
          "name": "stdout"
        },
        {
          "output_type": "display_data",
          "data": {
            "image/png": "[encoded data removed]",
            "text/plain": [
              "<Figure size 432x288 with 1 Axes>"
            ]
          },
          "metadata": {
            "tags": []
          }
        }
      ]
    }
  ]
}