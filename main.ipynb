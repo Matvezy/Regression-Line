{
  "nbformat": 4,
  "nbformat_minor": 0,
  "metadata": {
    "colab": {
      "name": "Untitled0.ipynb",
      "provenance": [],
      "collapsed_sections": [],
      "include_colab_link": true
    },
    "kernelspec": {
      "name": "python3",
      "display_name": "Python 3"
    }
  },
  "cells": [
    {
      "cell_type": "markdown",
      "metadata": {
        "id": "view-in-github",
        "colab_type": "text"
      },
      "source": [
        "<a href=\"https://colab.research.google.com/github/Matvezy/Regression-Line/blob/master/main.ipynb\" target=\"_parent\"><img src=\"https://colab.research.google.com/assets/colab-badge.svg\" alt=\"Open In Colab\"/></a>"
      ]
    },
    {
      "cell_type": "code",
      "metadata": {
        "id": "qIQ497704usI",
        "colab_type": "code",
        "colab": {}
      },
      "source": [
        "import numpy as np\n",
        "import tensorflow as tf\n",
        "import matplotlib.pyplot as plt\n",
        "import pandas as pd  "
      ],
      "execution_count": 0,
      "outputs": []
    },
    {
      "cell_type": "markdown",
      "metadata": {
        "id": "9QpNKokoz13i",
        "colab_type": "text"
      },
      "source": [
        "Matvei Popov assignment on Linear regression, for Code in"
      ]
    },
    {
      "cell_type": "markdown",
      "metadata": {
        "id": "rJUAIMhCy7ZF",
        "colab_type": "text"
      },
      "source": [
        "The code has way too many comments, I did it on purpose, in order to clearify everything for myself, and to remember what is going on."
      ]
    },
    {
      "cell_type": "markdown",
      "metadata": {
        "id": "4zEEhwFctIYz",
        "colab_type": "text"
      },
      "source": [
        "Function that generates random, dummie data set for age(years) and height(centimeters)"
      ]
    },
    {
      "cell_type": "code",
      "metadata": {
        "id": "pIOX7z0rtf3p",
        "colab_type": "code",
        "colab": {}
      },
      "source": [
        "def generate_dataset():\n",
        " x_batch = np.linspace(0, 2, 100)\n",
        " y_batch = 1.5 * x_batch + np.random.randn(*x_batch.shape) * 0.2 + 0.5\n",
        " return x_batch, y_batch"
      ],
      "execution_count": 0,
      "outputs": []
    },
    {
      "cell_type": "markdown",
      "metadata": {
        "id": "bZ2_iUlUxYcd",
        "colab_type": "text"
      },
      "source": [
        "Function for defining variables for regression line "
      ]
    },
    {
      "cell_type": "code",
      "metadata": {
        "id": "qN8aOIn6xpLI",
        "colab_type": "code",
        "colab": {}
      },
      "source": [
        "def linear_regression():\n",
        "  # x,y are placeholders for now\n",
        "  x = tf.placeholder(tf.float32, shape=(None, ), name='x')\n",
        "  y = tf.placeholder(tf.float32, shape=(None, ), name='y')\n",
        "\n",
        "  with tf.variable_scope('lreg') as scope:\n",
        "    # W stands for gradient(slope) of regression line, placeholder for now\n",
        "    w = tf.Variable(np.random.normal(), name='W')\n",
        "    # b stands for y-inercept of regression line, placeholder for now\n",
        "    b = tf.Variable(np.random.normal(), name='b')\n",
        "\t\t#equation for regression line\n",
        "    y_pred = tf.add(tf.multiply(w, x), b)\n",
        "    #loss determines how far the predicted y is from actual y\n",
        "    loss = tf.reduce_mean(tf.square(y_pred - y))\n",
        "  return x, y, y_pred, loss"
      ],
      "execution_count": 0,
      "outputs": []
    },
    {
      "cell_type": "markdown",
      "metadata": {
        "id": "BHGISI_lztAt",
        "colab_type": "text"
      },
      "source": [
        "Computing the graph"
      ]
    },
    {
      "cell_type": "code",
      "metadata": {
        "id": "4Wj_l_CV0Cbc",
        "colab_type": "code",
        "colab": {
          "base_uri": "https://localhost:8080/",
          "height": 1000
        },
        "outputId": "2a29ad6f-5236-4d6b-cc31-e133ef76fb68"
      },
      "source": [
        "def run():\n",
        "  #implementing above functions\n",
        "  x_batch, y_batch = generate_dataset()\n",
        "  x, y, y_pred, loss = linear_regression()\n",
        "\n",
        "  optimizer = tf.train.GradientDescentOptimizer(0.1)\n",
        "  train_op = optimizer.minimize(loss)\n",
        "\n",
        "  with tf.Session() as session:\n",
        "    # Initializing variables\n",
        "    session.run(tf.global_variables_initializer()) \n",
        "    feed_dict = {x: x_batch, y: y_batch}\n",
        "\t\t# train n (60) times\n",
        "    for i in range(60):\n",
        "      #evaluate tensor into fetch\n",
        "      session.run(train_op, feed_dict)\n",
        "      print(i, \"loss:\", loss.eval(feed_dict))\n",
        "\n",
        "    print('Predicting')\n",
        "    #preforming inference, we have trained W and b, which means that we can not waste time on training again\n",
        "    y_pred_batch = session.run(y_pred, {x : x_batch})\n",
        "\n",
        "  #constructing a plot\n",
        "  plt.scatter(x_batch, y_batch)\n",
        "  plt.plot(x_batch, y_pred_batch, color='red')\n",
        "  plt.xlim(0, 2)\n",
        "  plt.ylim(0, 2)\n",
        "  plt.savefig('plot.png')\n",
        "\n",
        "\n",
        "if __name__ == \"__main__\":\n",
        "  run()"
      ],
      "execution_count": 39,
      "outputs": [
        {
          "output_type": "stream",
          "text": [
            "0 loss: 0.3614228\n",
            "1 loss: 0.15000267\n",
            "2 loss: 0.082869165\n",
            "3 loss: 0.061495543\n",
            "4 loss: 0.05463796\n",
            "5 loss: 0.052388407\n",
            "6 loss: 0.051604677\n",
            "7 loss: 0.0512901\n",
            "8 loss: 0.051128324\n",
            "9 loss: 0.05101882\n",
            "10 loss: 0.05092945\n",
            "11 loss: 0.050849825\n",
            "12 loss: 0.05077643\n",
            "13 loss: 0.05070796\n",
            "14 loss: 0.05064382\n",
            "15 loss: 0.050583668\n",
            "16 loss: 0.050527204\n",
            "17 loss: 0.05047421\n",
            "18 loss: 0.050424468\n",
            "19 loss: 0.050377764\n",
            "20 loss: 0.050333932\n",
            "21 loss: 0.050292786\n",
            "22 loss: 0.05025417\n",
            "23 loss: 0.050217915\n",
            "24 loss: 0.05018388\n",
            "25 loss: 0.05015194\n",
            "26 loss: 0.05012195\n",
            "27 loss: 0.0500938\n",
            "28 loss: 0.05006738\n",
            "29 loss: 0.050042573\n",
            "30 loss: 0.050019287\n",
            "31 loss: 0.049997434\n",
            "32 loss: 0.049976915\n",
            "33 loss: 0.049957663\n",
            "34 loss: 0.049939584\n",
            "35 loss: 0.04992262\n",
            "36 loss: 0.049906682\n",
            "37 loss: 0.04989173\n",
            "38 loss: 0.049877696\n",
            "39 loss: 0.049864516\n",
            "40 loss: 0.04985215\n",
            "41 loss: 0.049840536\n",
            "42 loss: 0.049829636\n",
            "43 loss: 0.049819414\n",
            "44 loss: 0.04980981\n",
            "45 loss: 0.049800787\n",
            "46 loss: 0.049792334\n",
            "47 loss: 0.049784385\n",
            "48 loss: 0.049776934\n",
            "49 loss: 0.049769934\n",
            "50 loss: 0.04976337\n",
            "51 loss: 0.04975721\n",
            "52 loss: 0.049751405\n",
            "53 loss: 0.04974598\n",
            "54 loss: 0.049740877\n",
            "55 loss: 0.04973609\n",
            "56 loss: 0.04973159\n",
            "57 loss: 0.049727373\n",
            "58 loss: 0.04972341\n",
            "59 loss: 0.049719695\n",
            "Predicting\n"
          ],
          "name": "stdout"
        },
        {
          "output_type": "display_data",
          "data": {
            "image/png": "[encoded data removed]",
            "text/plain": [
              "<Figure size 432x288 with 1 Axes>"
            ]
          },
          "metadata": {
            "tags": []
          }
        }
      ]
    },
    {
      "cell_type": "code",
      "metadata": {
        "id": "g4N2x6m1JcY3",
        "colab_type": "code",
        "colab": {}
      },
      "source": [
        "dataset = pd.read_csv()"
      ],
      "execution_count": 0,
      "outputs": []
    }
  ]
}